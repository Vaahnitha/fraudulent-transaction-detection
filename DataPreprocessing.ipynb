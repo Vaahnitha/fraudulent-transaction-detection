{
 "cells": [
  {
   "cell_type": "code",
   "execution_count": 1,
   "id": "12b362eb-37f7-4340-a1e4-f325c241920a",
   "metadata": {},
   "outputs": [],
   "source": [
    "# Importing necessary libraries\n",
    "import pandas as pd\n",
    "import numpy as np\n",
    "from sklearn.model_selection import train_test_split\n",
    "from sklearn.preprocessing import StandardScaler, OneHotEncoder\n",
    "from sklearn.compose import ColumnTransformer\n",
    "from sklearn.pipeline import Pipeline\n",
    "from sklearn.impute import SimpleImputer"
   ]
  },
  {
   "cell_type": "code",
   "execution_count": 2,
   "id": "17c9e9e9-541b-4971-85a5-ec1b8c52957b",
   "metadata": {},
   "outputs": [
    {
     "data": {
      "text/plain": [
       "step           0\n",
       "customer       0\n",
       "age            0\n",
       "gender         0\n",
       "zipcodeOri     0\n",
       "merchant       0\n",
       "zipMerchant    0\n",
       "category       0\n",
       "amount         0\n",
       "fraud          0\n",
       "dtype: int64"
      ]
     },
     "execution_count": 2,
     "metadata": {},
     "output_type": "execute_result"
    }
   ],
   "source": [
    "df = pd.read_csv(r\"C:\\Users\\Vaahnitha\\OneDrive\\Desktop\\programming\\hsbc hackathon\\train_hsbc_df.csv\")\n",
    "df.head\n",
    "df.info\n",
    "df.isnull().sum()"
   ]
  },
  {
   "cell_type": "code",
   "execution_count": 3,
   "id": "58febec7-37ba-4b87-a146-44672f4c4aa2",
   "metadata": {},
   "outputs": [
    {
     "name": "stdout",
     "output_type": "stream",
     "text": [
      "Columns with missing values:\n",
      " Series([], dtype: int64)\n",
      "Percentage of missing data in each column:\n",
      " Series([], dtype: float64)\n"
     ]
    }
   ],
   "source": [
    "# Check for missing values in each column\n",
    "missing_values = df.isnull().sum()\n",
    "\n",
    "# Display columns with missing values\n",
    "missing_values = missing_values[missing_values > 0]\n",
    "print(\"Columns with missing values:\\n\", missing_values)\n",
    "\n",
    "# Calculate the percentage of missing data for each column\n",
    "missing_percentage = (missing_values / len(df)) * 100\n",
    "print(\"Percentage of missing data in each column:\\n\", missing_percentage)\n"
   ]
  },
  {
   "cell_type": "code",
   "execution_count": 4,
   "id": "cb442f5f-3536-4af3-970e-c49ad9ac167c",
   "metadata": {},
   "outputs": [
    {
     "name": "stdout",
     "output_type": "stream",
     "text": [
      "Missing values in each column:\n",
      " step           0\n",
      "customer       0\n",
      "age            0\n",
      "gender         0\n",
      "zipcodeOri     0\n",
      "merchant       0\n",
      "zipMerchant    0\n",
      "category       0\n",
      "amount         0\n",
      "fraud          0\n",
      "dtype: int64\n",
      "No missing values found in the dataset.\n"
     ]
    }
   ],
   "source": [
    "# Check for missing values in each column\n",
    "missing_values = df.isnull().sum()\n",
    "\n",
    "# Print out the number of missing values\n",
    "print(\"Missing values in each column:\\n\", missing_values)\n",
    "\n",
    "# Check if there are any missing values\n",
    "if missing_values.sum() == 0:\n",
    "    print(\"No missing values found in the dataset.\")\n",
    "else:\n",
    "    print(\"Missing values detected. Please handle them as needed.\")\n"
   ]
  },
  {
   "cell_type": "code",
   "execution_count": 5,
   "id": "ab083981-7e95-4cbd-b253-28916ef81fe1",
   "metadata": {},
   "outputs": [
    {
     "name": "stdout",
     "output_type": "stream",
     "text": [
      "Columns in the DataFrame: Index(['step', 'customer', 'age', 'gender', 'zipcodeOri', 'merchant',\n",
      "       'zipMerchant', 'category', 'amount', 'fraud'],\n",
      "      dtype='object')\n"
     ]
    }
   ],
   "source": [
    "# List all columns in the DataFrame\n",
    "print(\"Columns in the DataFrame:\", df.columns)"
   ]
  },
  {
   "cell_type": "code",
   "execution_count": 6,
   "id": "eab0154e-9290-4e66-a672-26be407c1db6",
   "metadata": {},
   "outputs": [],
   "source": [
    "# Creating a new feature for the number of transactions per customer aka feature transforming for customer, since it's a unique feature, using it for aggregation i.r., counting is better\n",
    "df['customer_transaction_count'] = df.groupby('customer')['customer'].transform('count')\n",
    "\n",
    "# Drop the original 'customer' column if it's not needed directly\n",
    "df = df.drop('customer', axis=1)"
   ]
  },
  {
   "cell_type": "code",
   "execution_count": 7,
   "id": "19130ba6-b29b-4c8e-bc3c-a8b3603192c2",
   "metadata": {},
   "outputs": [
    {
     "name": "stdout",
     "output_type": "stream",
     "text": [
      "Columns in the DataFrame: Index(['step', 'age', 'gender', 'zipcodeOri', 'merchant', 'zipMerchant',\n",
      "       'category', 'amount', 'fraud', 'customer_transaction_count'],\n",
      "      dtype='object')\n"
     ]
    }
   ],
   "source": [
    "print(\"Columns in the DataFrame:\", df.columns)"
   ]
  },
  {
   "cell_type": "code",
   "execution_count": 8,
   "id": "82d96c42-e1da-41ce-84ae-d65f9008e965",
   "metadata": {},
   "outputs": [
    {
     "name": "stdout",
     "output_type": "stream",
     "text": [
      "[\"'M'\" \"'F'\" \"'E'\" \"'U'\"]\n",
      "gender\n",
      "'F'    280199\n",
      "'M'    231998\n",
      "'E'      1009\n",
      "'U'       437\n",
      "Name: count, dtype: int64\n"
     ]
    }
   ],
   "source": [
    "print(df['gender'].unique())\n",
    "print(df['gender'].value_counts())"
   ]
  },
  {
   "cell_type": "code",
   "execution_count": 9,
   "id": "aad77d24-a2c4-4c9e-bed1-ed99d606a632",
   "metadata": {},
   "outputs": [
    {
     "name": "stdout",
     "output_type": "stream",
     "text": [
      "Unique values in 'gender': [\"'M'\" \"'F'\" \"'E'\" \"'U'\"]\n",
      "Frequency distribution of 'gender':\n",
      "gender\n",
      "'F'    280199\n",
      "'M'    231998\n",
      "'E'      1009\n",
      "'U'       437\n",
      "Name: count, dtype: int64\n",
      "Updated unique values in 'gender': [\"'M'\" \"'F'\" \"'O'\"]\n",
      "Updated frequency distribution of 'gender':\n",
      "gender\n",
      "'F'    280199\n",
      "'M'    231998\n",
      "'O'      1446\n",
      "Name: count, dtype: int64\n"
     ]
    }
   ],
   "source": [
    "print(\"Unique values in 'gender':\", df['gender'].unique())\n",
    "print(\"Frequency distribution of 'gender':\")\n",
    "print(df['gender'].value_counts())\n",
    "# Define expected categories\n",
    "expected_categories = [\"'M'\",\"'F'\" ]\n",
    "new_category = \"'O'\"\n",
    "\n",
    "# Replace 'E' and 'U' along with any other unexpected values with 'O'\n",
    "df['gender'] = df['gender'].apply(lambda x: x if x in expected_categories else new_category)\n",
    "\n",
    "# Verify the changes\n",
    "print(\"Updated unique values in 'gender':\", df['gender'].unique())\n",
    "print(\"Updated frequency distribution of 'gender':\")\n",
    "print(df['gender'].value_counts())\n"
   ]
  },
  {
   "cell_type": "code",
   "execution_count": 10,
   "id": "1e74f596-d073-4a49-bcb6-6008a0285a17",
   "metadata": {},
   "outputs": [],
   "source": [
    "# Define categorical features\n",
    "categorical_features = ['gender', 'zipcodeOri', 'merchant', 'zipMerchant', 'category']\n",
    "\n",
    "# Initialize OneHotEncoder\n",
    "encoder = OneHotEncoder(handle_unknown='ignore')\n",
    "\n",
    "# Apply OneHotEncoder to categorical features\n",
    "encoded_data = encoder.fit_transform(df[categorical_features])\n",
    "\n",
    "# Convert the encoded data to a DataFrame and concatenate with the original data\n",
    "encoded_df = pd.DataFrame(encoded_data.toarray(), columns=encoder.get_feature_names_out(categorical_features))\n",
    "df = pd.concat([df.reset_index(drop=True), encoded_df.reset_index(drop=True)], axis=1)\n",
    "\n",
    "# Drop the original categorical columns\n",
    "df = df.drop(categorical_features, axis=1)"
   ]
  },
  {
   "cell_type": "code",
   "execution_count": 11,
   "id": "12ddd025-7a1c-48f2-ae10-c900576b7369",
   "metadata": {},
   "outputs": [
    {
     "name": "stdout",
     "output_type": "stream",
     "text": [
      "Data types of columns:\n",
      " step                                 int64\n",
      "age                                 object\n",
      "amount                             float64\n",
      "fraud                                int64\n",
      "customer_transaction_count           int64\n",
      "                                    ...   \n",
      "category_'es_sportsandtoys'        float64\n",
      "category_'es_tech'                 float64\n",
      "category_'es_transportation'       float64\n",
      "category_'es_travel'               float64\n",
      "category_'es_wellnessandbeauty'    float64\n",
      "Length: 75, dtype: object\n"
     ]
    }
   ],
   "source": [
    "# Check data types of the columns\n",
    "print(\"Data types of columns:\\n\", df.dtypes)"
   ]
  },
  {
   "cell_type": "code",
   "execution_count": 12,
   "id": "bef6c3d3-ce7d-43b3-80bb-8ca80b0fad75",
   "metadata": {},
   "outputs": [
    {
     "name": "stdout",
     "output_type": "stream",
     "text": [
      "Unique values in 'age' column:\n",
      " [\"'3'\" \"'4'\" \"'2'\" \"'5'\" \"'1'\" \"'6'\" \"'0'\" \"'U'\"]\n"
     ]
    }
   ],
   "source": [
    "# Check unique values in the 'age' column\n",
    "print(\"Unique values in 'age' column:\\n\", df['age'].unique())\n"
   ]
  },
  {
   "cell_type": "code",
   "execution_count": 13,
   "id": "63649151-b8fa-448a-a8d1-2a146a05f098",
   "metadata": {},
   "outputs": [
    {
     "name": "stdout",
     "output_type": "stream",
     "text": [
      "[3 4 2 5 1 6 0]\n",
      "step                                 int64\n",
      "age                                  int32\n",
      "amount                             float64\n",
      "fraud                                int64\n",
      "customer_transaction_count           int64\n",
      "                                    ...   \n",
      "category_'es_sportsandtoys'        float64\n",
      "category_'es_tech'                 float64\n",
      "category_'es_transportation'       float64\n",
      "category_'es_travel'               float64\n",
      "category_'es_wellnessandbeauty'    float64\n",
      "Length: 75, dtype: object\n"
     ]
    }
   ],
   "source": [
    "df['age'] = df['age'].replace({'\\'U\\'': np.nan})\n",
    "\n",
    "# Convert numeric values from strings to actual numbers\n",
    "df['age'] = pd.to_numeric(df['age'].str.strip(\"'\"), errors='coerce')\n",
    "\n",
    "# Fill NaN values in 'age' with the median\n",
    "df['age'] = df['age'].fillna(df['age'].median())\n",
    "\n",
    "# Optionally, convert 'age' to integers\n",
    "df['age'] = df['age'].astype(int)\n",
    "\n",
    "# Verify the changes\n",
    "print(df['age'].unique())\n",
    "print(df.dtypes)"
   ]
  },
  {
   "cell_type": "code",
   "execution_count": 14,
   "id": "259ede2c-5223-4d77-91c7-9dfea1774369",
   "metadata": {},
   "outputs": [
    {
     "name": "stdout",
     "output_type": "stream",
     "text": [
      "Columns in the DataFrame: Index(['step', 'age', 'amount', 'fraud', 'customer_transaction_count',\n",
      "       'gender_'F'', 'gender_'M'', 'gender_'O'', 'zipcodeOri_'28007'',\n",
      "       'merchant_'M1053599405'', 'merchant_'M117188757'',\n",
      "       'merchant_'M1198415165'', 'merchant_'M1294758098'',\n",
      "       'merchant_'M1313686961'', 'merchant_'M1352454843'',\n",
      "       'merchant_'M1353266412'', 'merchant_'M1400236507'',\n",
      "       'merchant_'M1416436880'', 'merchant_'M151143676'',\n",
      "       'merchant_'M1535107174'', 'merchant_'M1600850729'',\n",
      "       'merchant_'M1649169323'', 'merchant_'M1726401631'',\n",
      "       'merchant_'M17379832'', 'merchant_'M1741626453'',\n",
      "       'merchant_'M1748431652'', 'merchant_'M1788569036'',\n",
      "       'merchant_'M1823072687'', 'merchant_'M1842530320'',\n",
      "       'merchant_'M1872033263'', 'merchant_'M1873032707'',\n",
      "       'merchant_'M1888755466'', 'merchant_'M1913465890'',\n",
      "       'merchant_'M1946091778'', 'merchant_'M2011752106'',\n",
      "       'merchant_'M2080407379'', 'merchant_'M209847108'',\n",
      "       'merchant_'M2122776122'', 'merchant_'M348875670'',\n",
      "       'merchant_'M348934600'', 'merchant_'M349281107'', 'merchant_'M3697346'',\n",
      "       'merchant_'M45060432'', 'merchant_'M480139044'',\n",
      "       'merchant_'M495352832'', 'merchant_'M50039827'',\n",
      "       'merchant_'M547558035'', 'merchant_'M677738360'',\n",
      "       'merchant_'M692898500'', 'merchant_'M732195782'',\n",
      "       'merchant_'M78078399'', 'merchant_'M840466850'',\n",
      "       'merchant_'M855959430'', 'merchant_'M857378720'',\n",
      "       'merchant_'M85975013'', 'merchant_'M923029380'',\n",
      "       'merchant_'M933210764'', 'merchant_'M97925176'',\n",
      "       'merchant_'M980657600'', 'zipMerchant_'28007'',\n",
      "       'category_'es_barsandrestaurants'', 'category_'es_contents'',\n",
      "       'category_'es_fashion'', 'category_'es_food'', 'category_'es_health'',\n",
      "       'category_'es_home'', 'category_'es_hotelservices'',\n",
      "       'category_'es_hyper'', 'category_'es_leisure'',\n",
      "       'category_'es_otherservices'', 'category_'es_sportsandtoys'',\n",
      "       'category_'es_tech'', 'category_'es_transportation'',\n",
      "       'category_'es_travel'', 'category_'es_wellnessandbeauty''],\n",
      "      dtype='object')\n"
     ]
    }
   ],
   "source": [
    "print(\"Columns in the DataFrame:\", df.columns)"
   ]
  },
  {
   "cell_type": "code",
   "execution_count": 15,
   "id": "cad49e1c-32a0-456f-9d78-4c4ca25fcd8d",
   "metadata": {},
   "outputs": [],
   "source": [
    "from sklearn.preprocessing import StandardScaler\n",
    "\n",
    "# Define numerical features\n",
    "numerical_features = ['age','amount', 'customer_transaction_count']\n",
    "\n",
    "# Initialize StandardScaler\n",
    "scaler = StandardScaler()\n",
    "\n",
    "# Apply scaling to numerical features\n",
    "df[numerical_features] = scaler.fit_transform(df[numerical_features])"
   ]
  },
  {
   "cell_type": "code",
   "execution_count": 16,
   "id": "7687b6e5-08eb-42c8-a8e4-e5d11c1e32de",
   "metadata": {},
   "outputs": [],
   "source": [
    "from sklearn.model_selection import train_test_split\n",
    "\n",
    "# Define the target variable and features\n",
    "X = df.drop('fraud', axis=1)\n",
    "y = df['fraud']\n",
    "\n",
    "# Split the dataset into training and testing sets\n",
    "X_train, X_test, y_train, y_test = train_test_split(X, y, test_size=0.2, random_state=42)\n"
   ]
  },
  {
   "cell_type": "code",
   "execution_count": 17,
   "id": "cc7631e6-5847-4582-af07-773a1beac134",
   "metadata": {},
   "outputs": [],
   "source": [
    "import pandas as pd\n",
    "import numpy as np\n",
    "from sklearn.preprocessing import StandardScaler, OneHotEncoder\n",
    "from sklearn.model_selection import train_test_split\n",
    "\n",
    "# Load the dataset\n",
    "df = pd.read_csv(r\"C:\\Users\\Vaahnitha\\OneDrive\\Desktop\\programming\\hsbc hackathon\\train_hsbc_df.csv\")\n",
    "\n",
    "# Creating a new feature for the number of transactions per customer\n",
    "df['customer_transaction_count'] = df.groupby('customer')['customer'].transform('count')\n",
    "df = df.drop('customer', axis=1)\n",
    "\n",
    "# Replace unexpected values in 'gender'\n",
    "expected_categories = [\"'M'\", \"'F'\"]\n",
    "new_category = \"'O'\"\n",
    "df['gender'] = df['gender'].apply(lambda x: x if x in expected_categories else new_category)\n",
    "\n",
    "# Define categorical features\n",
    "categorical_features = ['gender', 'zipcodeOri', 'merchant', 'zipMerchant', 'category']\n",
    "encoder = OneHotEncoder(handle_unknown='ignore')\n",
    "encoded_data = encoder.fit_transform(df[categorical_features])\n",
    "encoded_df = pd.DataFrame(encoded_data.toarray(), columns=encoder.get_feature_names_out(categorical_features))\n",
    "df = pd.concat([df.reset_index(drop=True), encoded_df.reset_index(drop=True)], axis=1)\n",
    "df = df.drop(categorical_features, axis=1)\n",
    "\n",
    "# Handle 'age' column\n",
    "df['age'] = df['age'].replace({'\\'U\\'': np.nan})\n",
    "df['age'] = pd.to_numeric(df['age'].str.strip(\"'\"), errors='coerce')\n",
    "df['age'] = df['age'].fillna(df['age'].median())\n",
    "df['age'] = df['age'].astype(int)\n",
    "\n",
    "# Standardize numerical features\n",
    "numerical_features = ['age', 'amount', 'customer_transaction_count']\n",
    "scaler = StandardScaler()\n",
    "df[numerical_features] = scaler.fit_transform(df[numerical_features])\n",
    "\n",
    "# Define features and target\n",
    "X = df.drop('fraud', axis=1)\n",
    "y = df['fraud']\n",
    "\n",
    "# Include 'fraud' column before saving\n",
    "df['fraud'] = y\n",
    "\n",
    "# Save the preprocessed dataset including 'fraud'\n",
    "df.to_csv('preprocessed_data_with_fraud.csv', index=False)\n"
   ]
  },
  {
   "cell_type": "code",
   "execution_count": null,
   "id": "06a392a7-9443-41e8-8ebf-76e9e2559154",
   "metadata": {},
   "outputs": [],
   "source": []
  }
 ],
 "metadata": {
  "kernelspec": {
   "display_name": "Python 3 (ipykernel)",
   "language": "python",
   "name": "python3"
  },
  "language_info": {
   "codemirror_mode": {
    "name": "ipython",
    "version": 3
   },
   "file_extension": ".py",
   "mimetype": "text/x-python",
   "name": "python",
   "nbconvert_exporter": "python",
   "pygments_lexer": "ipython3",
   "version": "3.12.4"
  }
 },
 "nbformat": 4,
 "nbformat_minor": 5
}
